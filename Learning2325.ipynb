{
  "nbformat": 4,
  "nbformat_minor": 0,
  "metadata": {
    "colab": {
      "provenance": []
    },
    "kernelspec": {
      "name": "python3",
      "display_name": "Python 3"
    },
    "language_info": {
      "name": "python"
    }
  },
  "cells": [
    {
      "cell_type": "code",
      "execution_count": null,
      "metadata": {
        "id": "atHJaZjgCzmI",
        "colab": {
          "base_uri": "https://localhost:8080/"
        },
        "outputId": "dfa63856-9f6b-426d-baa2-1086231f9834"
      },
      "outputs": [
        {
          "output_type": "stream",
          "name": "stdout",
          "text": [
            "Hello,world\n"
          ]
        }
      ],
      "source": [
        "print(\"Hello,world\")"
      ]
    },
    {
      "cell_type": "code",
      "source": [
        "name = input(\"Name: \")\n",
        "print(f\"Hello, {name}\")"
      ],
      "metadata": {
        "colab": {
          "base_uri": "https://localhost:8080/"
        },
        "id": "SbM2nGUI4yU_",
        "outputId": "235b4d71-3b61-44a6-caf2-ab57645422e1"
      },
      "execution_count": null,
      "outputs": [
        {
          "output_type": "stream",
          "name": "stdout",
          "text": [
            "Name: Wee\n",
            "Hello, Wee\n"
          ]
        }
      ]
    },
    {
      "cell_type": "code",
      "source": [
        "n = input(\"Number: \")\n",
        "\n",
        "if n > \"0\":\n",
        "  print(\"n is positive\")\n",
        "else:\n",
        "  print(\"n is not positive\")"
      ],
      "metadata": {
        "colab": {
          "base_uri": "https://localhost:8080/"
        },
        "id": "vmV-vSZr8_53",
        "outputId": "8d8c61ac-c200-4243-80bd-2e0d0b5aaf12"
      },
      "execution_count": null,
      "outputs": [
        {
          "output_type": "stream",
          "name": "stdout",
          "text": [
            "Number: 1\n",
            "n is positive\n"
          ]
        }
      ]
    }
  ]
}