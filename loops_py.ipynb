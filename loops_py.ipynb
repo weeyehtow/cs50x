{
  "nbformat": 4,
  "nbformat_minor": 0,
  "metadata": {
    "colab": {
      "provenance": [],
      "authorship_tag": "ABX9TyNTfLu+v+bb7IxkTYrbW5Tk",
      "include_colab_link": true
    },
    "kernelspec": {
      "name": "python3",
      "display_name": "Python 3"
    },
    "language_info": {
      "name": "python"
    }
  },
  "cells": [
    {
      "cell_type": "markdown",
      "metadata": {
        "id": "view-in-github",
        "colab_type": "text"
      },
      "source": [
        "<a href=\"https://colab.research.google.com/github/weeyehtow/cs50x/blob/main/loops_py.ipynb\" target=\"_parent\"><img src=\"https://colab.research.google.com/assets/colab-badge.svg\" alt=\"Open In Colab\"/></a>"
      ]
    },
    {
      "cell_type": "code",
      "execution_count": 4,
      "metadata": {
        "colab": {
          "base_uri": "https://localhost:8080/"
        },
        "id": "PGuB9OL3wu4O",
        "outputId": "b0f98b90-cbe5-46e2-ab00-39e10beb46d1"
      },
      "outputs": [
        {
          "output_type": "stream",
          "name": "stdout",
          "text": [
            "Harry\n",
            "Ron\n",
            "Hermione\n"
          ]
        }
      ],
      "source": [
        "names = [\"Harry\",\"Ron\",\"Hermione\"]\n",
        "\n",
        "for name in names:\n",
        "    print(name)"
      ]
    },
    {
      "cell_type": "code",
      "source": [
        "name = \"Harry\"\n",
        "\n",
        "for character in name:\n",
        "  print(character)"
      ],
      "metadata": {
        "colab": {
          "base_uri": "https://localhost:8080/"
        },
        "id": "Sm8w5piMztCf",
        "outputId": "dc75d7f0-cf87-4ffe-fb28-37c8ac3ade8e"
      },
      "execution_count": 6,
      "outputs": [
        {
          "output_type": "stream",
          "name": "stdout",
          "text": [
            "H\n",
            "a\n",
            "r\n",
            "r\n",
            "y\n"
          ]
        }
      ]
    }
  ]
}