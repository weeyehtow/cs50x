{
  "nbformat": 4,
  "nbformat_minor": 0,
  "metadata": {
    "colab": {
      "provenance": [],
      "authorship_tag": "ABX9TyPLjxuYB5bRXY1QWjUOfJPM",
      "include_colab_link": true
    },
    "kernelspec": {
      "name": "python3",
      "display_name": "Python 3"
    },
    "language_info": {
      "name": "python"
    }
  },
  "cells": [
    {
      "cell_type": "markdown",
      "metadata": {
        "id": "view-in-github",
        "colab_type": "text"
      },
      "source": [
        "<a href=\"https://colab.research.google.com/github/weeyehtow/cs50x/blob/main/dictionary_py.ipynb\" target=\"_parent\"><img src=\"https://colab.research.google.com/assets/colab-badge.svg\" alt=\"Open In Colab\"/></a>"
      ]
    },
    {
      "cell_type": "code",
      "execution_count": 4,
      "metadata": {
        "colab": {
          "base_uri": "https://localhost:8080/"
        },
        "id": "Mqtor55n0ZHW",
        "outputId": "1eb3475a-9211-47c5-9f20-218a09a71fc1"
      },
      "outputs": [
        {
          "output_type": "stream",
          "name": "stdout",
          "text": [
            "Gryffindor\n"
          ]
        }
      ],
      "source": [
        "houses={\"Harry\":\"Gryffindor\", \"Draco\":\"Slytherin\"}\n",
        "\n",
        "houses[\"Hermione\"]=\"Gryffindor\"\n",
        "print(houses[\"Hermione\"])"
      ]
    }
  ]
}