{
  "nbformat": 4,
  "nbformat_minor": 0,
  "metadata": {
    "colab": {
      "provenance": [],
      "authorship_tag": "ABX9TyOtbn0Fk36yTeljMbTd0tsw",
      "include_colab_link": true
    },
    "kernelspec": {
      "name": "python3",
      "display_name": "Python 3"
    },
    "language_info": {
      "name": "python"
    }
  },
  "cells": [
    {
      "cell_type": "markdown",
      "metadata": {
        "id": "view-in-github",
        "colab_type": "text"
      },
      "source": [
        "<a href=\"https://colab.research.google.com/github/weeyehtow/cs50x/blob/main/sets_py.ipynb\" target=\"_parent\"><img src=\"https://colab.research.google.com/assets/colab-badge.svg\" alt=\"Open In Colab\"/></a>"
      ]
    },
    {
      "cell_type": "code",
      "execution_count": 3,
      "metadata": {
        "colab": {
          "base_uri": "https://localhost:8080/"
        },
        "id": "2SZf6Iw1tJMZ",
        "outputId": "2217c939-4b24-4c61-8aa1-e22438e8004b"
      },
      "outputs": [
        {
          "output_type": "stream",
          "name": "stdout",
          "text": [
            "{1, 3, 4}\n",
            "The set has 3 elements.\n"
          ]
        }
      ],
      "source": [
        "# Create an empty set\n",
        "s= set()\n",
        "\n",
        "#Add elements to set\n",
        "s.add(1)\n",
        "s.add(2)\n",
        "s.add(3)\n",
        "s.add(4)\n",
        "s.add(3)\n",
        "\n",
        "s.remove(2)\n",
        "print(s)\n",
        "\n",
        "print(f\"The set has {len(s)} elements.\")"
      ]
    }
  ]
}