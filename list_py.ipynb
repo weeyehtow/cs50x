{
  "nbformat": 4,
  "nbformat_minor": 0,
  "metadata": {
    "colab": {
      "provenance": [],
      "authorship_tag": "ABX9TyPYnMhulkzGZK0UtyF0ip41",
      "include_colab_link": true
    },
    "kernelspec": {
      "name": "python3",
      "display_name": "Python 3"
    },
    "language_info": {
      "name": "python"
    }
  },
  "cells": [
    {
      "cell_type": "markdown",
      "metadata": {
        "id": "view-in-github",
        "colab_type": "text"
      },
      "source": [
        "<a href=\"https://colab.research.google.com/github/weeyehtow/cs50x/blob/main/list_py.ipynb\" target=\"_parent\"><img src=\"https://colab.research.google.com/assets/colab-badge.svg\" alt=\"Open In Colab\"/></a>"
      ]
    },
    {
      "cell_type": "code",
      "execution_count": 6,
      "metadata": {
        "colab": {
          "base_uri": "https://localhost:8080/"
        },
        "id": "uHYP0vzCqD95",
        "outputId": "68f15652-dad4-4043-d9be-14175797e8d3"
      },
      "outputs": [
        {
          "output_type": "stream",
          "name": "stdout",
          "text": [
            "Harry\n",
            "['Draco', 'Ginny', 'Harry', 'Hermione', 'Ron']\n"
          ]
        }
      ],
      "source": [
        "# Define a list of names\n",
        "names = [\"Harry\",\"Ron\",\"Hermione\",\"Ginny\"]\n",
        "\n",
        "print(names[0])\n",
        "\n",
        "names.append(\"Draco\")\n",
        "\n",
        "names.sort()\n",
        "\n",
        "print(names)"
      ]
    }
  ]
}